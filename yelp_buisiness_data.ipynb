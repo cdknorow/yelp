{
 "cells": [
  {
   "cell_type": "code",
   "execution_count": 246,
   "metadata": {
    "collapsed": false
   },
   "outputs": [],
   "source": [
    "import os \n",
    "import sys\n",
    "import numpy as np\n",
    "import gzip\n",
    "import simplejson as json\n",
    "from sklearn.cross_validation import train_test_split\n",
    "import pandas as pd\n",
    "import dill\n",
    "import sklearn.base as base\n",
    "from sklearn.grid_search import GridSearchCV"
   ]
  },
  {
   "cell_type": "markdown",
   "metadata": {
    "collapsed": true
   },
   "source": [
    "- this code trains yelp data to predict start ratings for businesses"
   ]
  },
  {
   "cell_type": "code",
   "execution_count": null,
   "metadata": {
    "collapsed": true
   },
   "outputs": [],
   "source": [
    "gz = gzip.open('miniprojects/questions/data/ml/yelp_train_academic_dataset_business.json.gz')\n",
    "M = []\n",
    "for i in gz.readlines():\n",
    "    M.append(i)\n",
    "#get a test and train set\n",
    "indices = np.random.permutation(xrange(len(M)))\n",
    "M_random_order = list( M[i] for i in indices)\n",
    "y_random_order = list( M[i] for i in indices)\n",
    "M = M_random_order\n",
    "y = y_random_order\n",
    "M_train, M_test, y_train, y_test = train_test_split(M_random_order, y_random_order, test_size=0.05)"
   ]
  },
  {
   "cell_type": "code",
   "execution_count": 127,
   "metadata": {
    "collapsed": false
   },
   "outputs": [],
   "source": [
    "#Establish a baseline\n",
    "class MeanCityEstimator(base.BaseEstimator, base.RegressorMixin):\n",
    "    def __init__(self):\n",
    "        self.cities= {}\n",
    "        # initialization code\n",
    "\n",
    "    def fit(self, X, y):\n",
    "        # fit the model ...\n",
    "        r = pd.DataFrame(X,columns=['city'])\n",
    "        r = r.groupby('city')\n",
    "        cities = r.groups.keys()\n",
    "        for i in cities:\n",
    "            index = r.get_group(i).index\n",
    "            self.cities[i] = float(pd.DataFrame(y).loc[index].mean())\n",
    "        return self\n",
    "\n",
    "    def predict(self, X):\n",
    "        p_city = []\n",
    "        for city in X:\n",
    "            try:\n",
    "                p_city.append(self.cities[city])\n",
    "            except:\n",
    "                #print 'no city', city\n",
    "                p_city.append(3.75)\n",
    "        return p_city\n",
    "    "
   ]
  },
  {
   "cell_type": "markdown",
   "metadata": {},
   "source": [
    "Column Transformer Classes"
   ]
  },
  {
   "cell_type": "code",
   "execution_count": 40,
   "metadata": {
    "collapsed": false
   },
   "outputs": [],
   "source": [
    "#Select one column from json record and return an array\n",
    "class ColumnSelectTransformer(base.BaseEstimator, base.TransformerMixin):\n",
    "    def __init__(self, column_name=''):\n",
    "        # initialization code\n",
    "        self.column_name = column_name\n",
    "\n",
    "    def fit(self, X, y=None):\n",
    "        # fit the transformation ...\n",
    "        return self\n",
    "\n",
    "    def transform(self, X):\n",
    "        A = []\n",
    "        for i in X:\n",
    "            try:\n",
    "                s = json.loads(i)\n",
    "            except:\n",
    "                s= i\n",
    "            A.append(s[self.column_name])\n",
    "        return A\n",
    "\n",
    "#Select two columns from json record and return an array [c1,c2]\n",
    "class ColumnSelectTransformer2(base.BaseEstimator, base.TransformerMixin):\n",
    "    def __init__(self, column1_name='', column2_name=''):\n",
    "        # initialization code\n",
    "        self.column1_name = column1_name\n",
    "        self.column2_name = column2_name\n",
    "        pass\n",
    "\n",
    "    def fit(self, X, y=None):\n",
    "        # fit the transformation ...\n",
    "        return self\n",
    "\n",
    "    def transform(self, X):\n",
    "        A = []\n",
    "        for i in X:\n",
    "            try:\n",
    "                s = json.loads(i)\n",
    "            except:\n",
    "                s = i\n",
    "            A.append([s[self.column1_name],s[self.column2_name]])\n",
    "        return A\n",
    "    "
   ]
  },
  {
   "cell_type": "code",
   "execution_count": 181,
   "metadata": {
    "collapsed": true
   },
   "outputs": [],
   "source": [
    "#Select one column and turn it into an unweighted dictionary of terms\n",
    "class DictMassagerTransformer(base.BaseEstimator, base.TransformerMixin):\n",
    "    def __init__(self):\n",
    "        # initialization code\n",
    "        pass\n",
    "\n",
    "    def fit(self, X, y=None):\n",
    "        # fit the transformation ...\n",
    "        return self\n",
    "\n",
    "    def transform(self, X):\n",
    "        A = []\n",
    "        for p in X:\n",
    "            B={}\n",
    "            for key in p: \n",
    "                B[key]=1\n",
    "            A.append(B)\n",
    "        return A\n",
    "\n",
    "    \n",
    "#Select one column and turn it into an unweighted dictionary of terms\n",
    "class NestFlattenTransformer(base.BaseEstimator, base.TransformerMixin):\n",
    "    def __init__(self):\n",
    "        # initialization code\n",
    "        pass\n",
    "\n",
    "    def fit(self, X, y=None):\n",
    "        # fit the transformation ...\n",
    "        return self\n",
    "\n",
    "    def transform(self, X):\n",
    "        A = []\n",
    "        for p in X:\n",
    "            B={}\n",
    "            for key in p: \n",
    "                if isinstance(p[key], dict):\n",
    "                    for b_key in p[key]:\n",
    "                        if p[key][b_key]:\n",
    "                            B[key+'_'+b_key]=1\n",
    "                        else:\n",
    "                             B[key+'_'+b_key]=0\n",
    "                else:\n",
    "                    B[key]=1\n",
    "            A.append(B)\n",
    "        return A\n",
    "\n",
    "    \n",
    "#Take a model and add a transform method that returns a prediction\n",
    "class ModelTransformer(base.BaseEstimator, base.TransformerMixin):\n",
    "    def __init__(self, model):\n",
    "        # initialization code\n",
    "        self.model = model\n",
    "\n",
    "    def fit(self, X, y=None):\n",
    "        # fit the transformation ...\n",
    "        return self.model.fit(X,y)\n",
    "\n",
    "    def transform(self, X, **transform_params):\n",
    "        return self.model.predict(X)\n",
    "    \n",
    "    def score(self, X, y=None):\n",
    "        # score the model ...\n",
    "        return self.model.score(X,y)\n"
   ]
  },
  {
   "cell_type": "code",
   "execution_count": 214,
   "metadata": {
    "collapsed": true
   },
   "outputs": [],
   "source": [
    "#Take a model and add a transform method that returns a prediction\n",
    "class ConcantTransformer(base.BaseEstimator, base.TransformerMixin):\n",
    "    def __init__(self, num=3):\n",
    "        self.num=num\n",
    "\n",
    "    def fit(self, X, y=None):\n",
    "        #fit the transformation\n",
    "        return self\n",
    "\n",
    "    def transform(self, X):\n",
    "        #transform the data\n",
    "        l = len(X)\n",
    "        l_step = l/self.num\n",
    "        A = []\n",
    "        for i in range(l_step):\n",
    "            B = []\n",
    "            for j in range(self.num): \n",
    "                B.append(X[i+l_step*j])\n",
    "            A.append(B)\n",
    "        return A\n"
   ]
  },
  {
   "cell_type": "markdown",
   "metadata": {},
   "source": [
    "Location-based model"
   ]
  },
  {
   "cell_type": "code",
   "execution_count": 357,
   "metadata": {
    "collapsed": false,
    "scrolled": true
   },
   "outputs": [
    {
     "name": "stdout",
     "output_type": "stream",
     "text": [
      "0.0524583772093\n",
      "{'neigh__n_neighbors': 62}\n"
     ]
    }
   ],
   "source": [
    "from sklearn.neighbors import KNeighborsRegressor\n",
    "\n",
    "y_train = ColumnSelectTransformer(column_name='stars').transform(M_train)\n",
    "y_test = ColumnSelectTransformer(column_name='stars').transform(M_test)\n",
    "y = ColumnSelectTransformer(column_name='stars').transform(M)\n",
    "\n",
    "parameters = {'neigh__n_neighbors':range(40,75,2)}\n",
    "\n",
    "pipeline = Pipeline([('cm', ColumnSelectTransformer2(column1_name='latitude', column2_name='longitude')),\n",
    "               ('neigh',  KNeighborsRegressor())])\n",
    "\n",
    "grid_search = GridSearchCV(pipeline,  param_grid=parameters, cv= 3)\n",
    "grid_search.fit(M,y)\n",
    "\n",
    "dill.dump(grid_search, open('../lib/ml/pipeline_long.dll','w'))\n",
    "print grid_search.score(M_test,y_test)\n",
    "print grid_search.best_params_"
   ]
  },
  {
   "cell_type": "code",
   "execution_count": null,
   "metadata": {
    "collapsed": true
   },
   "outputs": [],
   "source": [
    "for i in range(1,75,5):\n",
    "    pipeline = Pipeline([('cm', ColumnSelectTransformer2(column1_name='latitude', column2_name='longitude')),\n",
    "                   ('neigh',  KNeighborsRegressor(n_neighbors=i))])\n",
    "    pipeline.fit(M_train,y_train)\n",
    "    print pipeline.score(M_test,y_test), i"
   ]
  },
  {
   "cell_type": "code",
   "execution_count": 336,
   "metadata": {
    "collapsed": false
   },
   "outputs": [
    {
     "data": {
      "text/plain": [
       "0.19698694875714862"
      ]
     },
     "execution_count": 336,
     "metadata": {},
     "output_type": "execute_result"
    }
   ],
   "source": [
    "#Train on categories\n",
    "from sklearn.linear_model import LinearRegression\n",
    "from sklearn.feature_extraction import DictVectorizer\n",
    "from sklearn.pipeline import Pipeline\n",
    "\n",
    "\n",
    "y = ColumnSelectTransformer(column_name='stars').transform(M)\n",
    "pi = Pipeline([('cm', ColumnSelectTransformer('categories')),\n",
    "               ('dm', DictMassagerTransformer()),\n",
    "               ('dv', DictVectorizer()),\n",
    "               ('ln', LinearRegression())])\n",
    "\n",
    "pi.fit(M,y)\n",
    "dill.dump(pi, open('../lib/ml/pipeline_categories.dll','w'))\n",
    "pi.score(M_test,y_test)          "
   ]
  },
  {
   "cell_type": "code",
   "execution_count": 355,
   "metadata": {
    "collapsed": false,
    "scrolled": false
   },
   "outputs": [
    {
     "data": {
      "text/plain": [
       "0.068386414195693357"
      ]
     },
     "execution_count": 355,
     "metadata": {},
     "output_type": "execute_result"
    }
   ],
   "source": [
    "#train on attributes\n",
    "from sklearn.linear_model import LinearRegression\n",
    "from sklearn.feature_extraction import DictVectorizer\n",
    "from sklearn.pipeline import Pipeline\n",
    "\n",
    "\n",
    "y = ColumnSelectTransformer(column_name='stars').transform(M)\n",
    "\n",
    "pi = Pipeline([('cm', ColumnSelectTransformer('attributes')),\n",
    "               ('dm', NestFlattenTransformer()),\n",
    "               ('dv', DictVectorizer()),\n",
    "               ('ln', LinearRegression())])\n",
    "\n",
    "pi.fit(M,y)\n",
    "prediction = pi.predict(M)\n",
    "dill.dump(pi, open('../lib/ml/pipeline_attributes.dll','w'))\n",
    "pi.score(M_test,y_test)          "
   ]
  },
  {
   "cell_type": "code",
   "execution_count": 356,
   "metadata": {
    "collapsed": false,
    "scrolled": false
   },
   "outputs": [
    {
     "name": "stdout",
     "output_type": "stream",
     "text": [
      "0.221688109967\n"
     ]
    }
   ],
   "source": [
    "#Combine all models\n",
    "from sklearn.neighbors import KNeighborsRegressor\n",
    "from sklearn.linear_model import LinearRegression\n",
    "from sklearn.feature_extraction import DictVectorizer\n",
    "from sklearn.pipeline import Pipeline\n",
    "from sklearn.pipeline import FeatureUnion\n",
    "\n",
    "\n",
    "y = ColumnSelectTransformer(column_name='stars').transform(M)\n",
    "y_test = ColumnSelectTransformer(column_name='stars').transform(M_test)\n",
    "\n",
    "combined_features  =   FeatureUnion([\n",
    "    ('mean', Pipeline([     ('cm', ColumnSelectTransformer('city')),\n",
    "                            ('dm', ModelTransformer(MeanCityEstimator()))])),\n",
    "    ('latlong', Pipeline([  ('cm', ColumnSelectTransformer2(column1_name='latitude', column2_name='longitude')),\n",
    "                            ('neigh',  ModelTransformer(KNeighborsRegressor(n_neighbors=62)))])),\n",
    "    ('category' , Pipeline([('cm', ColumnSelectTransformer('categories')),\n",
    "                            ('dm', DictMassagerTransformer()),\n",
    "                            ('dv', DictVectorizer()),\n",
    "                            ('ln',  ModelTransformer(LinearRegression()))])),\n",
    "    ('attribute', Pipeline([('cm', ColumnSelectTransformer('attributes')),\n",
    "                            ('dm', NestFlattenTransformer()),\n",
    "                            ('dv', DictVectorizer()),\n",
    "                            ('ln',  ModelTransformer(LinearRegression()))]))])\n",
    " \n",
    "\n",
    "features = combined_features.fit(M,y)\n",
    "pipeline = Pipeline([(\"concat\", ConcantTransformer(num=4)),\n",
    "                     (\"ln\", LinearRegression())])\n",
    "full_model = pipeline.fit(features.transform(M),y)\n",
    "\n",
    "dill.dump(full_model, open('../lib/ml/pipeline_full.dll','w'))\n",
    "dill.dump(features, open('../lib/ml/features_full.dll','w'))\n",
    "print full_model.score(features.transform(M_test),y_test)"
   ]
  },
  {
   "cell_type": "code",
   "execution_count": null,
   "metadata": {
    "collapsed": true
   },
   "outputs": [],
   "source": []
  }
 ],
 "metadata": {
  "kernelspec": {
   "display_name": "Python 2",
   "language": "python",
   "name": "python2"
  },
  "language_info": {
   "codemirror_mode": {
    "name": "ipython",
    "version": 2
   },
   "file_extension": ".py",
   "mimetype": "text/x-python",
   "name": "python",
   "nbconvert_exporter": "python",
   "pygments_lexer": "ipython2",
   "version": "2.7.6"
  }
 },
 "nbformat": 4,
 "nbformat_minor": 0
}
